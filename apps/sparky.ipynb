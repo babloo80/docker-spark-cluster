{
 "cells": [
  {
   "cell_type": "code",
   "execution_count": 1,
   "metadata": {},
   "outputs": [],
   "source": [
    "from pyspark.sql import SparkSession\n",
    "\n",
    "spark = SparkSession.builder.appName(\"sparky\").\\\n",
    "        master(\"spark://spark-master:7077\").\\\n",
    "        config(\"spark.executor.memory\", \"512m\").\\\n",
    "        getOrCreate()"
   ]
  },
  {
   "cell_type": "code",
   "execution_count": 2,
   "metadata": {},
   "outputs": [
    {
     "name": "stdout",
     "output_type": "stream",
     "text": [
      "Collecting wget\n",
      "  Downloading wget-3.2.zip (10 kB)\n",
      "Building wheels for collected packages: wget\n",
      "  Building wheel for wget (setup.py) ... \u001b[?25ldone\n",
      "\u001b[?25h  Created wheel for wget: filename=wget-3.2-py3-none-any.whl size=9681 sha256=8b230205c7d8019879ded1a5db58c40f1d5790db9dd8d545b660bf48a2c913f5\n",
      "  Stored in directory: /root/.cache/pip/wheels/bd/a8/c3/3cf2c14a1837a4e04bd98631724e81f33f462d86a1d895fae0\n",
      "Successfully built wget\n",
      "Installing collected packages: wget\n",
      "Successfully installed wget-3.2\n"
     ]
    },
    {
     "data": {
      "text/plain": [
       "'iris (2).data'"
      ]
     },
     "execution_count": 2,
     "metadata": {},
     "output_type": "execute_result"
    }
   ],
   "source": [
    "!pip3 install wget\n",
    "import wget\n",
    "\n",
    "wget.download(\"https://archive.ics.uci.edu/ml/machine-learning-databases/iris/iris.data\")"
   ]
  },
  {
   "cell_type": "code",
   "execution_count": 3,
   "metadata": {},
   "outputs": [],
   "source": [
    "data = spark.read.csv(\"iris.data\")"
   ]
  },
  {
   "cell_type": "code",
   "execution_count": 4,
   "metadata": {},
   "outputs": [
    {
     "name": "stdout",
     "output_type": "stream",
     "text": [
      "+---+---+---+---+-----------+\n",
      "|_c0|_c1|_c2|_c3|        _c4|\n",
      "+---+---+---+---+-----------+\n",
      "|5.1|3.5|1.4|0.2|Iris-setosa|\n",
      "|4.9|3.0|1.4|0.2|Iris-setosa|\n",
      "|4.7|3.2|1.3|0.2|Iris-setosa|\n",
      "|4.6|3.1|1.5|0.2|Iris-setosa|\n",
      "+---+---+---+---+-----------+\n",
      "only showing top 4 rows\n",
      "\n"
     ]
    }
   ],
   "source": [
    "data.show(n=4)"
   ]
  },
  {
   "cell_type": "code",
   "execution_count": 5,
   "metadata": {},
   "outputs": [
    {
     "data": {
      "text/plain": [
       "'kddcup.data_10_percent (1).gz'"
      ]
     },
     "execution_count": 5,
     "metadata": {},
     "output_type": "execute_result"
    }
   ],
   "source": [
    "wget.download(\"http://kdd.ics.uci.edu/databases/kddcup99/kddcup.data_10_percent.gz\")"
   ]
  },
  {
   "cell_type": "code",
   "execution_count": 6,
   "metadata": {},
   "outputs": [],
   "source": [
    "# Creates a DataFrame type. - https://spark.apache.org/docs/latest/api/python/pyspark.sql.html#pyspark.sql.DataFrame\n",
    "kddcup_data = spark.read.csv('./kddcup.data_10_percent.gz')"
   ]
  },
  {
   "cell_type": "code",
   "execution_count": 7,
   "metadata": {},
   "outputs": [
    {
     "data": {
      "text/plain": [
       "494021"
      ]
     },
     "execution_count": 7,
     "metadata": {},
     "output_type": "execute_result"
    }
   ],
   "source": [
    "kddcup_data.count()"
   ]
  },
  {
   "cell_type": "code",
   "execution_count": 15,
   "metadata": {},
   "outputs": [
    {
     "data": {
      "text/plain": [
       "[Row(_c0='0', _c1='tcp', _c2='http', _c3='SF', _c4='181', _c5='5450', _c6='0', _c7='0', _c8='0', _c9='0', _c10='0', _c11='1', _c12='0', _c13='0', _c14='0', _c15='0', _c16='0', _c17='0', _c18='0', _c19='0', _c20='0', _c21='0', _c22='8', _c23='8', _c24='0.00', _c25='0.00', _c26='0.00', _c27='0.00', _c28='1.00', _c29='0.00', _c30='0.00', _c31='9', _c32='9', _c33='1.00', _c34='0.00', _c35='0.11', _c36='0.00', _c37='0.00', _c38='0.00', _c39='0.00', _c40='0.00', _c41='normal.'),\n",
       " Row(_c0='0', _c1='tcp', _c2='http', _c3='SF', _c4='239', _c5='486', _c6='0', _c7='0', _c8='0', _c9='0', _c10='0', _c11='1', _c12='0', _c13='0', _c14='0', _c15='0', _c16='0', _c17='0', _c18='0', _c19='0', _c20='0', _c21='0', _c22='8', _c23='8', _c24='0.00', _c25='0.00', _c26='0.00', _c27='0.00', _c28='1.00', _c29='0.00', _c30='0.00', _c31='19', _c32='19', _c33='1.00', _c34='0.00', _c35='0.05', _c36='0.00', _c37='0.00', _c38='0.00', _c39='0.00', _c40='0.00', _c41='normal.')]"
      ]
     },
     "execution_count": 15,
     "metadata": {},
     "output_type": "execute_result"
    }
   ],
   "source": [
    "kddcup_data.take(2)"
   ]
  },
  {
   "cell_type": "code",
   "execution_count": 35,
   "metadata": {},
   "outputs": [
    {
     "name": "stdout",
     "output_type": "stream",
     "text": [
      "There are 97278 'normal' interactions\n",
      "Count completed in 0.909 seconds.\n",
      "Filtered count: 10090\n",
      "First five: [9, 1, 8, 8, 4]\n"
     ]
    }
   ],
   "source": [
    "from pyspark.sql.functions import col\n",
    "from time import time\n",
    "\n",
    "normal_kddcup_data = kddcup_data.filter(col('_c41') == 'normal.')\n",
    "countStart = time()\n",
    "normalCount = normal_kddcup_data.count()\n",
    "countSpan = time() - countStart\n",
    "\n",
    "print(\"There are %s 'normal' interactions\" % normalCount)\n",
    "print('Count completed in %s seconds.' % round(countSpan,3))\n",
    "# Resilient Distributed Datasets (RDD) - https://spark.apache.org/docs/latest/rdd-programming-guide.html\n",
    "c31_data = normal_kddcup_data.rdd.map(lambda x: int(x['_c31']))\n",
    "# Collect will take everything from the rdd and put it in a list.\n",
    "# c31_data.collect()\n",
    "c31DataFiltered = c31_data.filter(lambda x: x < 10)\n",
    "print('Filtered count: %s' % c31DataFiltered.count())\n",
    "print('First five: %s' % c31DataFiltered.take(5))"
   ]
  },
  {
   "cell_type": "code",
   "execution_count": null,
   "metadata": {},
   "outputs": [],
   "source": []
  }
 ],
 "metadata": {
  "kernelspec": {
   "display_name": "Python 3",
   "language": "python",
   "name": "python3"
  },
  "language_info": {
   "codemirror_mode": {
    "name": "ipython",
    "version": 3
   },
   "file_extension": ".py",
   "mimetype": "text/x-python",
   "name": "python",
   "nbconvert_exporter": "python",
   "pygments_lexer": "ipython3",
   "version": "3.8.2"
  }
 },
 "nbformat": 4,
 "nbformat_minor": 4
}
